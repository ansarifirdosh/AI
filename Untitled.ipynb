{
 "cells": [
  {
   "cell_type": "markdown",
   "id": "a06a68f6",
   "metadata": {},
   "source": [
    "# Write a program to store the values of the matrix given below in a 2D list. \n"
   ]
  },
  {
   "cell_type": "code",
   "execution_count": null,
   "id": "dbb4fb68",
   "metadata": {},
   "outputs": [],
   "source": [
    "m = [\n",
    "    [2, 3, 4],\n",
    "    [1, 5, 6],\n",
    "    [5, 8, 5],\n",
    "]"
   ]
  }
 ],
 "metadata": {
  "kernelspec": {
   "display_name": "Python 3 (ipykernel)",
   "language": "python",
   "name": "python3"
  },
  "language_info": {
   "codemirror_mode": {
    "name": "ipython",
    "version": 3
   },
   "file_extension": ".py",
   "mimetype": "text/x-python",
   "name": "python",
   "nbconvert_exporter": "python",
   "pygments_lexer": "ipython3",
   "version": "3.9.12"
  }
 },
 "nbformat": 4,
 "nbformat_minor": 5
}
