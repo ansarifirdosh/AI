{
 "cells": [
  {
   "cell_type": "code",
   "execution_count": 11,
   "id": "0f3d1eed",
   "metadata": {},
   "outputs": [
    {
     "name": "stdout",
     "output_type": "stream",
     "text": [
      "1 9\n"
     ]
    }
   ],
   "source": [
    "list1 = [1,3,4,6,8,9]\n",
    "max_= list1[0]\n",
    "min_= list1[0]\n",
    "for item in list1:\n",
    "    if item < min_:\n",
    "        min_ = item\n",
    "    elif item > max_:\n",
    "        max_ = item\n",
    "print(min_, max_)"
   ]
  },
  {
   "cell_type": "code",
   "execution_count": null,
   "id": "29868106",
   "metadata": {},
   "outputs": [],
   "source": []
  }
 ],
 "metadata": {
  "kernelspec": {
   "display_name": "Python 3 (ipykernel)",
   "language": "python",
   "name": "python3"
  },
  "language_info": {
   "codemirror_mode": {
    "name": "ipython",
    "version": 3
   },
   "file_extension": ".py",
   "mimetype": "text/x-python",
   "name": "python",
   "nbconvert_exporter": "python",
   "pygments_lexer": "ipython3",
   "version": "3.9.12"
  }
 },
 "nbformat": 4,
 "nbformat_minor": 5
}
